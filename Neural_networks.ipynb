{
  "nbformat": 4,
  "nbformat_minor": 0,
  "metadata": {
    "colab": {
      "name": "Neural networks.ipynb",
      "provenance": [],
      "authorship_tag": "ABX9TyN7I8uX9gL786LKh6riAzoR",
      "include_colab_link": true
    },
    "kernelspec": {
      "name": "python3",
      "display_name": "Python 3"
    },
    "widgets": {
      "application/vnd.jupyter.widget-state+json": {
        "00a815f3ee704536bd7aefef4b57e554": {
          "model_module": "@jupyter-widgets/controls",
          "model_name": "HBoxModel",
          "state": {
            "_view_name": "HBoxView",
            "_dom_classes": [],
            "_model_name": "HBoxModel",
            "_view_module": "@jupyter-widgets/controls",
            "_model_module_version": "1.5.0",
            "_view_count": null,
            "_view_module_version": "1.5.0",
            "box_style": "",
            "layout": "IPY_MODEL_a3de70c8ca82449481e3642d01a6870d",
            "_model_module": "@jupyter-widgets/controls",
            "children": [
              "IPY_MODEL_d32590c0be864e5385d3e1203ad80b5d",
              "IPY_MODEL_a97739ed16fb4b6f9a1fde4eec7078a4"
            ]
          }
        },
        "a3de70c8ca82449481e3642d01a6870d": {
          "model_module": "@jupyter-widgets/base",
          "model_name": "LayoutModel",
          "state": {
            "_view_name": "LayoutView",
            "grid_template_rows": null,
            "right": null,
            "justify_content": null,
            "_view_module": "@jupyter-widgets/base",
            "overflow": null,
            "_model_module_version": "1.2.0",
            "_view_count": null,
            "flex_flow": null,
            "width": null,
            "min_width": null,
            "border": null,
            "align_items": null,
            "bottom": null,
            "_model_module": "@jupyter-widgets/base",
            "top": null,
            "grid_column": null,
            "overflow_y": null,
            "overflow_x": null,
            "grid_auto_flow": null,
            "grid_area": null,
            "grid_template_columns": null,
            "flex": null,
            "_model_name": "LayoutModel",
            "justify_items": null,
            "grid_row": null,
            "max_height": null,
            "align_content": null,
            "visibility": null,
            "align_self": null,
            "height": null,
            "min_height": null,
            "padding": null,
            "grid_auto_rows": null,
            "grid_gap": null,
            "max_width": null,
            "order": null,
            "_view_module_version": "1.2.0",
            "grid_template_areas": null,
            "object_position": null,
            "object_fit": null,
            "grid_auto_columns": null,
            "margin": null,
            "display": null,
            "left": null
          }
        },
        "d32590c0be864e5385d3e1203ad80b5d": {
          "model_module": "@jupyter-widgets/controls",
          "model_name": "FloatProgressModel",
          "state": {
            "_view_name": "ProgressView",
            "style": "IPY_MODEL_e40cb301d6374a97963d9dfb127b12d1",
            "_dom_classes": [],
            "description": "",
            "_model_name": "FloatProgressModel",
            "bar_style": "success",
            "max": 1,
            "_view_module": "@jupyter-widgets/controls",
            "_model_module_version": "1.5.0",
            "value": 1,
            "_view_count": null,
            "_view_module_version": "1.5.0",
            "orientation": "horizontal",
            "min": 0,
            "description_tooltip": null,
            "_model_module": "@jupyter-widgets/controls",
            "layout": "IPY_MODEL_f9ded4ebe19542e68d5321dc3b7d9ad8"
          }
        },
        "a97739ed16fb4b6f9a1fde4eec7078a4": {
          "model_module": "@jupyter-widgets/controls",
          "model_name": "HTMLModel",
          "state": {
            "_view_name": "HTMLView",
            "style": "IPY_MODEL_fd1e91c9b86740e584be3f38dba0000c",
            "_dom_classes": [],
            "description": "",
            "_model_name": "HTMLModel",
            "placeholder": "​",
            "_view_module": "@jupyter-widgets/controls",
            "_model_module_version": "1.5.0",
            "value": " 9920512/? [00:00&lt;00:00, 10380044.39it/s]",
            "_view_count": null,
            "_view_module_version": "1.5.0",
            "description_tooltip": null,
            "_model_module": "@jupyter-widgets/controls",
            "layout": "IPY_MODEL_c51128b453084d31a9cb33a77246e84b"
          }
        },
        "e40cb301d6374a97963d9dfb127b12d1": {
          "model_module": "@jupyter-widgets/controls",
          "model_name": "ProgressStyleModel",
          "state": {
            "_view_name": "StyleView",
            "_model_name": "ProgressStyleModel",
            "description_width": "initial",
            "_view_module": "@jupyter-widgets/base",
            "_model_module_version": "1.5.0",
            "_view_count": null,
            "_view_module_version": "1.2.0",
            "bar_color": null,
            "_model_module": "@jupyter-widgets/controls"
          }
        },
        "f9ded4ebe19542e68d5321dc3b7d9ad8": {
          "model_module": "@jupyter-widgets/base",
          "model_name": "LayoutModel",
          "state": {
            "_view_name": "LayoutView",
            "grid_template_rows": null,
            "right": null,
            "justify_content": null,
            "_view_module": "@jupyter-widgets/base",
            "overflow": null,
            "_model_module_version": "1.2.0",
            "_view_count": null,
            "flex_flow": null,
            "width": null,
            "min_width": null,
            "border": null,
            "align_items": null,
            "bottom": null,
            "_model_module": "@jupyter-widgets/base",
            "top": null,
            "grid_column": null,
            "overflow_y": null,
            "overflow_x": null,
            "grid_auto_flow": null,
            "grid_area": null,
            "grid_template_columns": null,
            "flex": null,
            "_model_name": "LayoutModel",
            "justify_items": null,
            "grid_row": null,
            "max_height": null,
            "align_content": null,
            "visibility": null,
            "align_self": null,
            "height": null,
            "min_height": null,
            "padding": null,
            "grid_auto_rows": null,
            "grid_gap": null,
            "max_width": null,
            "order": null,
            "_view_module_version": "1.2.0",
            "grid_template_areas": null,
            "object_position": null,
            "object_fit": null,
            "grid_auto_columns": null,
            "margin": null,
            "display": null,
            "left": null
          }
        },
        "fd1e91c9b86740e584be3f38dba0000c": {
          "model_module": "@jupyter-widgets/controls",
          "model_name": "DescriptionStyleModel",
          "state": {
            "_view_name": "StyleView",
            "_model_name": "DescriptionStyleModel",
            "description_width": "",
            "_view_module": "@jupyter-widgets/base",
            "_model_module_version": "1.5.0",
            "_view_count": null,
            "_view_module_version": "1.2.0",
            "_model_module": "@jupyter-widgets/controls"
          }
        },
        "c51128b453084d31a9cb33a77246e84b": {
          "model_module": "@jupyter-widgets/base",
          "model_name": "LayoutModel",
          "state": {
            "_view_name": "LayoutView",
            "grid_template_rows": null,
            "right": null,
            "justify_content": null,
            "_view_module": "@jupyter-widgets/base",
            "overflow": null,
            "_model_module_version": "1.2.0",
            "_view_count": null,
            "flex_flow": null,
            "width": null,
            "min_width": null,
            "border": null,
            "align_items": null,
            "bottom": null,
            "_model_module": "@jupyter-widgets/base",
            "top": null,
            "grid_column": null,
            "overflow_y": null,
            "overflow_x": null,
            "grid_auto_flow": null,
            "grid_area": null,
            "grid_template_columns": null,
            "flex": null,
            "_model_name": "LayoutModel",
            "justify_items": null,
            "grid_row": null,
            "max_height": null,
            "align_content": null,
            "visibility": null,
            "align_self": null,
            "height": null,
            "min_height": null,
            "padding": null,
            "grid_auto_rows": null,
            "grid_gap": null,
            "max_width": null,
            "order": null,
            "_view_module_version": "1.2.0",
            "grid_template_areas": null,
            "object_position": null,
            "object_fit": null,
            "grid_auto_columns": null,
            "margin": null,
            "display": null,
            "left": null
          }
        },
        "0c8eccd32c13493c8e7b30afa7b9859b": {
          "model_module": "@jupyter-widgets/controls",
          "model_name": "HBoxModel",
          "state": {
            "_view_name": "HBoxView",
            "_dom_classes": [],
            "_model_name": "HBoxModel",
            "_view_module": "@jupyter-widgets/controls",
            "_model_module_version": "1.5.0",
            "_view_count": null,
            "_view_module_version": "1.5.0",
            "box_style": "",
            "layout": "IPY_MODEL_1f6fa2ace7b0446ca7af86f50e6f154c",
            "_model_module": "@jupyter-widgets/controls",
            "children": [
              "IPY_MODEL_e5896538746340d9ab664e7350dbba42",
              "IPY_MODEL_4146ed00eb794e399819cff00d65cb31"
            ]
          }
        },
        "1f6fa2ace7b0446ca7af86f50e6f154c": {
          "model_module": "@jupyter-widgets/base",
          "model_name": "LayoutModel",
          "state": {
            "_view_name": "LayoutView",
            "grid_template_rows": null,
            "right": null,
            "justify_content": null,
            "_view_module": "@jupyter-widgets/base",
            "overflow": null,
            "_model_module_version": "1.2.0",
            "_view_count": null,
            "flex_flow": null,
            "width": null,
            "min_width": null,
            "border": null,
            "align_items": null,
            "bottom": null,
            "_model_module": "@jupyter-widgets/base",
            "top": null,
            "grid_column": null,
            "overflow_y": null,
            "overflow_x": null,
            "grid_auto_flow": null,
            "grid_area": null,
            "grid_template_columns": null,
            "flex": null,
            "_model_name": "LayoutModel",
            "justify_items": null,
            "grid_row": null,
            "max_height": null,
            "align_content": null,
            "visibility": null,
            "align_self": null,
            "height": null,
            "min_height": null,
            "padding": null,
            "grid_auto_rows": null,
            "grid_gap": null,
            "max_width": null,
            "order": null,
            "_view_module_version": "1.2.0",
            "grid_template_areas": null,
            "object_position": null,
            "object_fit": null,
            "grid_auto_columns": null,
            "margin": null,
            "display": null,
            "left": null
          }
        },
        "e5896538746340d9ab664e7350dbba42": {
          "model_module": "@jupyter-widgets/controls",
          "model_name": "FloatProgressModel",
          "state": {
            "_view_name": "ProgressView",
            "style": "IPY_MODEL_ee8c48d0630546cf8a5b3eda14abbbd8",
            "_dom_classes": [],
            "description": "",
            "_model_name": "FloatProgressModel",
            "bar_style": "success",
            "max": 1,
            "_view_module": "@jupyter-widgets/controls",
            "_model_module_version": "1.5.0",
            "value": 1,
            "_view_count": null,
            "_view_module_version": "1.5.0",
            "orientation": "horizontal",
            "min": 0,
            "description_tooltip": null,
            "_model_module": "@jupyter-widgets/controls",
            "layout": "IPY_MODEL_e7112df0846e43588b4b6f4adf9edc6c"
          }
        },
        "4146ed00eb794e399819cff00d65cb31": {
          "model_module": "@jupyter-widgets/controls",
          "model_name": "HTMLModel",
          "state": {
            "_view_name": "HTMLView",
            "style": "IPY_MODEL_ad39ba0151e7405e97966fff89b0967c",
            "_dom_classes": [],
            "description": "",
            "_model_name": "HTMLModel",
            "placeholder": "​",
            "_view_module": "@jupyter-widgets/controls",
            "_model_module_version": "1.5.0",
            "value": " 32768/? [00:00&lt;00:00, 228993.17it/s]",
            "_view_count": null,
            "_view_module_version": "1.5.0",
            "description_tooltip": null,
            "_model_module": "@jupyter-widgets/controls",
            "layout": "IPY_MODEL_a5a657ac3f23496da9f47672d5fe4870"
          }
        },
        "ee8c48d0630546cf8a5b3eda14abbbd8": {
          "model_module": "@jupyter-widgets/controls",
          "model_name": "ProgressStyleModel",
          "state": {
            "_view_name": "StyleView",
            "_model_name": "ProgressStyleModel",
            "description_width": "initial",
            "_view_module": "@jupyter-widgets/base",
            "_model_module_version": "1.5.0",
            "_view_count": null,
            "_view_module_version": "1.2.0",
            "bar_color": null,
            "_model_module": "@jupyter-widgets/controls"
          }
        },
        "e7112df0846e43588b4b6f4adf9edc6c": {
          "model_module": "@jupyter-widgets/base",
          "model_name": "LayoutModel",
          "state": {
            "_view_name": "LayoutView",
            "grid_template_rows": null,
            "right": null,
            "justify_content": null,
            "_view_module": "@jupyter-widgets/base",
            "overflow": null,
            "_model_module_version": "1.2.0",
            "_view_count": null,
            "flex_flow": null,
            "width": null,
            "min_width": null,
            "border": null,
            "align_items": null,
            "bottom": null,
            "_model_module": "@jupyter-widgets/base",
            "top": null,
            "grid_column": null,
            "overflow_y": null,
            "overflow_x": null,
            "grid_auto_flow": null,
            "grid_area": null,
            "grid_template_columns": null,
            "flex": null,
            "_model_name": "LayoutModel",
            "justify_items": null,
            "grid_row": null,
            "max_height": null,
            "align_content": null,
            "visibility": null,
            "align_self": null,
            "height": null,
            "min_height": null,
            "padding": null,
            "grid_auto_rows": null,
            "grid_gap": null,
            "max_width": null,
            "order": null,
            "_view_module_version": "1.2.0",
            "grid_template_areas": null,
            "object_position": null,
            "object_fit": null,
            "grid_auto_columns": null,
            "margin": null,
            "display": null,
            "left": null
          }
        },
        "ad39ba0151e7405e97966fff89b0967c": {
          "model_module": "@jupyter-widgets/controls",
          "model_name": "DescriptionStyleModel",
          "state": {
            "_view_name": "StyleView",
            "_model_name": "DescriptionStyleModel",
            "description_width": "",
            "_view_module": "@jupyter-widgets/base",
            "_model_module_version": "1.5.0",
            "_view_count": null,
            "_view_module_version": "1.2.0",
            "_model_module": "@jupyter-widgets/controls"
          }
        },
        "a5a657ac3f23496da9f47672d5fe4870": {
          "model_module": "@jupyter-widgets/base",
          "model_name": "LayoutModel",
          "state": {
            "_view_name": "LayoutView",
            "grid_template_rows": null,
            "right": null,
            "justify_content": null,
            "_view_module": "@jupyter-widgets/base",
            "overflow": null,
            "_model_module_version": "1.2.0",
            "_view_count": null,
            "flex_flow": null,
            "width": null,
            "min_width": null,
            "border": null,
            "align_items": null,
            "bottom": null,
            "_model_module": "@jupyter-widgets/base",
            "top": null,
            "grid_column": null,
            "overflow_y": null,
            "overflow_x": null,
            "grid_auto_flow": null,
            "grid_area": null,
            "grid_template_columns": null,
            "flex": null,
            "_model_name": "LayoutModel",
            "justify_items": null,
            "grid_row": null,
            "max_height": null,
            "align_content": null,
            "visibility": null,
            "align_self": null,
            "height": null,
            "min_height": null,
            "padding": null,
            "grid_auto_rows": null,
            "grid_gap": null,
            "max_width": null,
            "order": null,
            "_view_module_version": "1.2.0",
            "grid_template_areas": null,
            "object_position": null,
            "object_fit": null,
            "grid_auto_columns": null,
            "margin": null,
            "display": null,
            "left": null
          }
        },
        "731358e1604f432a8ba590464fcf021a": {
          "model_module": "@jupyter-widgets/controls",
          "model_name": "HBoxModel",
          "state": {
            "_view_name": "HBoxView",
            "_dom_classes": [],
            "_model_name": "HBoxModel",
            "_view_module": "@jupyter-widgets/controls",
            "_model_module_version": "1.5.0",
            "_view_count": null,
            "_view_module_version": "1.5.0",
            "box_style": "",
            "layout": "IPY_MODEL_89e86e23ae5648789073f073985ed910",
            "_model_module": "@jupyter-widgets/controls",
            "children": [
              "IPY_MODEL_18e575480d1e44929f36e2f112066840",
              "IPY_MODEL_e15c74f62f8149e19ff60f768b8143c3"
            ]
          }
        },
        "89e86e23ae5648789073f073985ed910": {
          "model_module": "@jupyter-widgets/base",
          "model_name": "LayoutModel",
          "state": {
            "_view_name": "LayoutView",
            "grid_template_rows": null,
            "right": null,
            "justify_content": null,
            "_view_module": "@jupyter-widgets/base",
            "overflow": null,
            "_model_module_version": "1.2.0",
            "_view_count": null,
            "flex_flow": null,
            "width": null,
            "min_width": null,
            "border": null,
            "align_items": null,
            "bottom": null,
            "_model_module": "@jupyter-widgets/base",
            "top": null,
            "grid_column": null,
            "overflow_y": null,
            "overflow_x": null,
            "grid_auto_flow": null,
            "grid_area": null,
            "grid_template_columns": null,
            "flex": null,
            "_model_name": "LayoutModel",
            "justify_items": null,
            "grid_row": null,
            "max_height": null,
            "align_content": null,
            "visibility": null,
            "align_self": null,
            "height": null,
            "min_height": null,
            "padding": null,
            "grid_auto_rows": null,
            "grid_gap": null,
            "max_width": null,
            "order": null,
            "_view_module_version": "1.2.0",
            "grid_template_areas": null,
            "object_position": null,
            "object_fit": null,
            "grid_auto_columns": null,
            "margin": null,
            "display": null,
            "left": null
          }
        },
        "18e575480d1e44929f36e2f112066840": {
          "model_module": "@jupyter-widgets/controls",
          "model_name": "FloatProgressModel",
          "state": {
            "_view_name": "ProgressView",
            "style": "IPY_MODEL_282e303897e54462a62a894616e274b0",
            "_dom_classes": [],
            "description": "",
            "_model_name": "FloatProgressModel",
            "bar_style": "info",
            "max": 1,
            "_view_module": "@jupyter-widgets/controls",
            "_model_module_version": "1.5.0",
            "value": 1,
            "_view_count": null,
            "_view_module_version": "1.5.0",
            "orientation": "horizontal",
            "min": 0,
            "description_tooltip": null,
            "_model_module": "@jupyter-widgets/controls",
            "layout": "IPY_MODEL_46b9502370d840aba0b40d608db94b7b"
          }
        },
        "e15c74f62f8149e19ff60f768b8143c3": {
          "model_module": "@jupyter-widgets/controls",
          "model_name": "HTMLModel",
          "state": {
            "_view_name": "HTMLView",
            "style": "IPY_MODEL_4a2cb6684a05458684ffa9d28c9dc9f4",
            "_dom_classes": [],
            "description": "",
            "_model_name": "HTMLModel",
            "placeholder": "​",
            "_view_module": "@jupyter-widgets/controls",
            "_model_module_version": "1.5.0",
            "value": " 1654784/? [00:19&lt;00:00, 12032640.98it/s]",
            "_view_count": null,
            "_view_module_version": "1.5.0",
            "description_tooltip": null,
            "_model_module": "@jupyter-widgets/controls",
            "layout": "IPY_MODEL_d5b25d130fa94e6ba625953f7a2df612"
          }
        },
        "282e303897e54462a62a894616e274b0": {
          "model_module": "@jupyter-widgets/controls",
          "model_name": "ProgressStyleModel",
          "state": {
            "_view_name": "StyleView",
            "_model_name": "ProgressStyleModel",
            "description_width": "initial",
            "_view_module": "@jupyter-widgets/base",
            "_model_module_version": "1.5.0",
            "_view_count": null,
            "_view_module_version": "1.2.0",
            "bar_color": null,
            "_model_module": "@jupyter-widgets/controls"
          }
        },
        "46b9502370d840aba0b40d608db94b7b": {
          "model_module": "@jupyter-widgets/base",
          "model_name": "LayoutModel",
          "state": {
            "_view_name": "LayoutView",
            "grid_template_rows": null,
            "right": null,
            "justify_content": null,
            "_view_module": "@jupyter-widgets/base",
            "overflow": null,
            "_model_module_version": "1.2.0",
            "_view_count": null,
            "flex_flow": null,
            "width": null,
            "min_width": null,
            "border": null,
            "align_items": null,
            "bottom": null,
            "_model_module": "@jupyter-widgets/base",
            "top": null,
            "grid_column": null,
            "overflow_y": null,
            "overflow_x": null,
            "grid_auto_flow": null,
            "grid_area": null,
            "grid_template_columns": null,
            "flex": null,
            "_model_name": "LayoutModel",
            "justify_items": null,
            "grid_row": null,
            "max_height": null,
            "align_content": null,
            "visibility": null,
            "align_self": null,
            "height": null,
            "min_height": null,
            "padding": null,
            "grid_auto_rows": null,
            "grid_gap": null,
            "max_width": null,
            "order": null,
            "_view_module_version": "1.2.0",
            "grid_template_areas": null,
            "object_position": null,
            "object_fit": null,
            "grid_auto_columns": null,
            "margin": null,
            "display": null,
            "left": null
          }
        },
        "4a2cb6684a05458684ffa9d28c9dc9f4": {
          "model_module": "@jupyter-widgets/controls",
          "model_name": "DescriptionStyleModel",
          "state": {
            "_view_name": "StyleView",
            "_model_name": "DescriptionStyleModel",
            "description_width": "",
            "_view_module": "@jupyter-widgets/base",
            "_model_module_version": "1.5.0",
            "_view_count": null,
            "_view_module_version": "1.2.0",
            "_model_module": "@jupyter-widgets/controls"
          }
        },
        "d5b25d130fa94e6ba625953f7a2df612": {
          "model_module": "@jupyter-widgets/base",
          "model_name": "LayoutModel",
          "state": {
            "_view_name": "LayoutView",
            "grid_template_rows": null,
            "right": null,
            "justify_content": null,
            "_view_module": "@jupyter-widgets/base",
            "overflow": null,
            "_model_module_version": "1.2.0",
            "_view_count": null,
            "flex_flow": null,
            "width": null,
            "min_width": null,
            "border": null,
            "align_items": null,
            "bottom": null,
            "_model_module": "@jupyter-widgets/base",
            "top": null,
            "grid_column": null,
            "overflow_y": null,
            "overflow_x": null,
            "grid_auto_flow": null,
            "grid_area": null,
            "grid_template_columns": null,
            "flex": null,
            "_model_name": "LayoutModel",
            "justify_items": null,
            "grid_row": null,
            "max_height": null,
            "align_content": null,
            "visibility": null,
            "align_self": null,
            "height": null,
            "min_height": null,
            "padding": null,
            "grid_auto_rows": null,
            "grid_gap": null,
            "max_width": null,
            "order": null,
            "_view_module_version": "1.2.0",
            "grid_template_areas": null,
            "object_position": null,
            "object_fit": null,
            "grid_auto_columns": null,
            "margin": null,
            "display": null,
            "left": null
          }
        },
        "6af893e7377341b88cea1177e3d4a6de": {
          "model_module": "@jupyter-widgets/controls",
          "model_name": "HBoxModel",
          "state": {
            "_view_name": "HBoxView",
            "_dom_classes": [],
            "_model_name": "HBoxModel",
            "_view_module": "@jupyter-widgets/controls",
            "_model_module_version": "1.5.0",
            "_view_count": null,
            "_view_module_version": "1.5.0",
            "box_style": "",
            "layout": "IPY_MODEL_2720d212b0324f5c9c5c24300b81ce58",
            "_model_module": "@jupyter-widgets/controls",
            "children": [
              "IPY_MODEL_555807f7bb994ddda6dc10db112dd0e6",
              "IPY_MODEL_1751c248d3e244389e4efde0c4874f3a"
            ]
          }
        },
        "2720d212b0324f5c9c5c24300b81ce58": {
          "model_module": "@jupyter-widgets/base",
          "model_name": "LayoutModel",
          "state": {
            "_view_name": "LayoutView",
            "grid_template_rows": null,
            "right": null,
            "justify_content": null,
            "_view_module": "@jupyter-widgets/base",
            "overflow": null,
            "_model_module_version": "1.2.0",
            "_view_count": null,
            "flex_flow": null,
            "width": null,
            "min_width": null,
            "border": null,
            "align_items": null,
            "bottom": null,
            "_model_module": "@jupyter-widgets/base",
            "top": null,
            "grid_column": null,
            "overflow_y": null,
            "overflow_x": null,
            "grid_auto_flow": null,
            "grid_area": null,
            "grid_template_columns": null,
            "flex": null,
            "_model_name": "LayoutModel",
            "justify_items": null,
            "grid_row": null,
            "max_height": null,
            "align_content": null,
            "visibility": null,
            "align_self": null,
            "height": null,
            "min_height": null,
            "padding": null,
            "grid_auto_rows": null,
            "grid_gap": null,
            "max_width": null,
            "order": null,
            "_view_module_version": "1.2.0",
            "grid_template_areas": null,
            "object_position": null,
            "object_fit": null,
            "grid_auto_columns": null,
            "margin": null,
            "display": null,
            "left": null
          }
        },
        "555807f7bb994ddda6dc10db112dd0e6": {
          "model_module": "@jupyter-widgets/controls",
          "model_name": "FloatProgressModel",
          "state": {
            "_view_name": "ProgressView",
            "style": "IPY_MODEL_9d2fa478c9e4493b9e9c6fe359d4b8fb",
            "_dom_classes": [],
            "description": "",
            "_model_name": "FloatProgressModel",
            "bar_style": "info",
            "max": 1,
            "_view_module": "@jupyter-widgets/controls",
            "_model_module_version": "1.5.0",
            "value": 0,
            "_view_count": null,
            "_view_module_version": "1.5.0",
            "orientation": "horizontal",
            "min": 0,
            "description_tooltip": null,
            "_model_module": "@jupyter-widgets/controls",
            "layout": "IPY_MODEL_164ee2ad677d4892a697fae4e0626eb0"
          }
        },
        "1751c248d3e244389e4efde0c4874f3a": {
          "model_module": "@jupyter-widgets/controls",
          "model_name": "HTMLModel",
          "state": {
            "_view_name": "HTMLView",
            "style": "IPY_MODEL_a0ad95a1075b46498f92ce91a537dfc6",
            "_dom_classes": [],
            "description": "",
            "_model_name": "HTMLModel",
            "placeholder": "​",
            "_view_module": "@jupyter-widgets/controls",
            "_model_module_version": "1.5.0",
            "value": " 0/? [00:00&lt;?, ?it/s]",
            "_view_count": null,
            "_view_module_version": "1.5.0",
            "description_tooltip": null,
            "_model_module": "@jupyter-widgets/controls",
            "layout": "IPY_MODEL_ad1cfc819977417398a2770a9dae80b3"
          }
        },
        "9d2fa478c9e4493b9e9c6fe359d4b8fb": {
          "model_module": "@jupyter-widgets/controls",
          "model_name": "ProgressStyleModel",
          "state": {
            "_view_name": "StyleView",
            "_model_name": "ProgressStyleModel",
            "description_width": "initial",
            "_view_module": "@jupyter-widgets/base",
            "_model_module_version": "1.5.0",
            "_view_count": null,
            "_view_module_version": "1.2.0",
            "bar_color": null,
            "_model_module": "@jupyter-widgets/controls"
          }
        },
        "164ee2ad677d4892a697fae4e0626eb0": {
          "model_module": "@jupyter-widgets/base",
          "model_name": "LayoutModel",
          "state": {
            "_view_name": "LayoutView",
            "grid_template_rows": null,
            "right": null,
            "justify_content": null,
            "_view_module": "@jupyter-widgets/base",
            "overflow": null,
            "_model_module_version": "1.2.0",
            "_view_count": null,
            "flex_flow": null,
            "width": null,
            "min_width": null,
            "border": null,
            "align_items": null,
            "bottom": null,
            "_model_module": "@jupyter-widgets/base",
            "top": null,
            "grid_column": null,
            "overflow_y": null,
            "overflow_x": null,
            "grid_auto_flow": null,
            "grid_area": null,
            "grid_template_columns": null,
            "flex": null,
            "_model_name": "LayoutModel",
            "justify_items": null,
            "grid_row": null,
            "max_height": null,
            "align_content": null,
            "visibility": null,
            "align_self": null,
            "height": null,
            "min_height": null,
            "padding": null,
            "grid_auto_rows": null,
            "grid_gap": null,
            "max_width": null,
            "order": null,
            "_view_module_version": "1.2.0",
            "grid_template_areas": null,
            "object_position": null,
            "object_fit": null,
            "grid_auto_columns": null,
            "margin": null,
            "display": null,
            "left": null
          }
        },
        "a0ad95a1075b46498f92ce91a537dfc6": {
          "model_module": "@jupyter-widgets/controls",
          "model_name": "DescriptionStyleModel",
          "state": {
            "_view_name": "StyleView",
            "_model_name": "DescriptionStyleModel",
            "description_width": "",
            "_view_module": "@jupyter-widgets/base",
            "_model_module_version": "1.5.0",
            "_view_count": null,
            "_view_module_version": "1.2.0",
            "_model_module": "@jupyter-widgets/controls"
          }
        },
        "ad1cfc819977417398a2770a9dae80b3": {
          "model_module": "@jupyter-widgets/base",
          "model_name": "LayoutModel",
          "state": {
            "_view_name": "LayoutView",
            "grid_template_rows": null,
            "right": null,
            "justify_content": null,
            "_view_module": "@jupyter-widgets/base",
            "overflow": null,
            "_model_module_version": "1.2.0",
            "_view_count": null,
            "flex_flow": null,
            "width": null,
            "min_width": null,
            "border": null,
            "align_items": null,
            "bottom": null,
            "_model_module": "@jupyter-widgets/base",
            "top": null,
            "grid_column": null,
            "overflow_y": null,
            "overflow_x": null,
            "grid_auto_flow": null,
            "grid_area": null,
            "grid_template_columns": null,
            "flex": null,
            "_model_name": "LayoutModel",
            "justify_items": null,
            "grid_row": null,
            "max_height": null,
            "align_content": null,
            "visibility": null,
            "align_self": null,
            "height": null,
            "min_height": null,
            "padding": null,
            "grid_auto_rows": null,
            "grid_gap": null,
            "max_width": null,
            "order": null,
            "_view_module_version": "1.2.0",
            "grid_template_areas": null,
            "object_position": null,
            "object_fit": null,
            "grid_auto_columns": null,
            "margin": null,
            "display": null,
            "left": null
          }
        }
      }
    }
  },
  "cells": [
    {
      "cell_type": "markdown",
      "metadata": {
        "id": "view-in-github",
        "colab_type": "text"
      },
      "source": [
        "<a href=\"https://colab.research.google.com/github/ajalamarvellous/Deeplearning/blob/main/Neural_networks.ipynb\" target=\"_parent\"><img src=\"https://colab.research.google.com/assets/colab-badge.svg\" alt=\"Open In Colab\"/></a>"
      ]
    },
    {
      "cell_type": "code",
      "metadata": {
        "id": "HF8qHs7Q4bpa"
      },
      "source": [
        "import torch\n",
        "import numpy as np\n",
        "import pandas as pd"
      ],
      "execution_count": null,
      "outputs": []
    },
    {
      "cell_type": "code",
      "metadata": {
        "id": "-xwsjLrM4o0C"
      },
      "source": [
        "def sigmoid(X):\n",
        "    return 1/(1+torch.exp(-X))"
      ],
      "execution_count": null,
      "outputs": []
    },
    {
      "cell_type": "code",
      "metadata": {
        "colab": {
          "base_uri": "https://localhost:8080/"
        },
        "id": "F3HZWF3q6i2E",
        "outputId": "e61d11b5-dc4b-40c6-81bc-8dc359d0d85f"
      },
      "source": [
        "from google.colab import drive\n",
        "drive.mount(\"/content/gdrive\")"
      ],
      "execution_count": null,
      "outputs": [
        {
          "output_type": "stream",
          "text": [
            "Mounted at /content/gdrive\n"
          ],
          "name": "stdout"
        }
      ]
    },
    {
      "cell_type": "code",
      "metadata": {
        "id": "FsxanRH465Nt"
      },
      "source": [
        "#pathway= \"/content/gdrive/MyDrive/Data/\"\n",
        "#Data = pd.read_csv(pathway+\"diabetes_mod.csv\")"
      ],
      "execution_count": null,
      "outputs": []
    },
    {
      "cell_type": "code",
      "metadata": {
        "id": "5RzZguRu7YcB"
      },
      "source": [
        " \n",
        "#C= np.array(Data.values)\n",
        "#X= C[:,:-1]\n",
        "#Y = C[:, -1]"
      ],
      "execution_count": null,
      "outputs": []
    },
    {
      "cell_type": "code",
      "metadata": {
        "id": "sh2SMwAt8nig"
      },
      "source": [
        "from sklearn.model_selection import train_test_split\n",
        "X_train, X_test, Y_train, Y_test = train_test_split(X,Y, test_size= 0.2, random_state= 17)"
      ],
      "execution_count": null,
      "outputs": []
    },
    {
      "cell_type": "code",
      "metadata": {
        "id": "sEW-Clet-kN9"
      },
      "source": [
        "#X_train = torch.Tensor(X_train)\n",
        "#X_test = torch.Tensor(X_test)\n",
        "#Y_train = torch.Tensor(Y_train)\n",
        "#Y_test = torch.Tensor(Y_test)"
      ],
      "execution_count": null,
      "outputs": []
    },
    {
      "cell_type": "code",
      "metadata": {
        "id": "-jE6GP6zY-uK",
        "colab": {
          "base_uri": "https://localhost:8080/",
          "height": 631,
          "referenced_widgets": [
            "00a815f3ee704536bd7aefef4b57e554",
            "a3de70c8ca82449481e3642d01a6870d",
            "d32590c0be864e5385d3e1203ad80b5d",
            "a97739ed16fb4b6f9a1fde4eec7078a4",
            "e40cb301d6374a97963d9dfb127b12d1",
            "f9ded4ebe19542e68d5321dc3b7d9ad8",
            "fd1e91c9b86740e584be3f38dba0000c",
            "c51128b453084d31a9cb33a77246e84b",
            "0c8eccd32c13493c8e7b30afa7b9859b",
            "1f6fa2ace7b0446ca7af86f50e6f154c",
            "e5896538746340d9ab664e7350dbba42",
            "4146ed00eb794e399819cff00d65cb31",
            "ee8c48d0630546cf8a5b3eda14abbbd8",
            "e7112df0846e43588b4b6f4adf9edc6c",
            "ad39ba0151e7405e97966fff89b0967c",
            "a5a657ac3f23496da9f47672d5fe4870",
            "731358e1604f432a8ba590464fcf021a",
            "89e86e23ae5648789073f073985ed910",
            "18e575480d1e44929f36e2f112066840",
            "e15c74f62f8149e19ff60f768b8143c3",
            "282e303897e54462a62a894616e274b0",
            "46b9502370d840aba0b40d608db94b7b",
            "4a2cb6684a05458684ffa9d28c9dc9f4",
            "d5b25d130fa94e6ba625953f7a2df612",
            "6af893e7377341b88cea1177e3d4a6de",
            "2720d212b0324f5c9c5c24300b81ce58",
            "555807f7bb994ddda6dc10db112dd0e6",
            "1751c248d3e244389e4efde0c4874f3a",
            "9d2fa478c9e4493b9e9c6fe359d4b8fb",
            "164ee2ad677d4892a697fae4e0626eb0",
            "a0ad95a1075b46498f92ce91a537dfc6",
            "ad1cfc819977417398a2770a9dae80b3"
          ]
        },
        "outputId": "65bf0284-a6cc-4352-a72d-b198e7ab9584"
      },
      "source": [
        "from torchvision import transforms, datasets\n",
        " \n",
        "transform = transforms.Compose([transforms.ToTensor(),\n",
        "                                transforms.Normalize((0.5,), (0.5,))])\n",
        " \n",
        "trainset = datasets.MNIST(\"data/\", download= True, train= False, transform = transform)\n",
        "trainloader = torch.utils.data.DataLoader(trainset, batch_size= 64, shuffle = True)"
      ],
      "execution_count": null,
      "outputs": [
        {
          "output_type": "stream",
          "text": [
            "Downloading http://yann.lecun.com/exdb/mnist/train-images-idx3-ubyte.gz to data/MNIST/raw/train-images-idx3-ubyte.gz\n"
          ],
          "name": "stdout"
        },
        {
          "output_type": "display_data",
          "data": {
            "application/vnd.jupyter.widget-view+json": {
              "model_id": "00a815f3ee704536bd7aefef4b57e554",
              "version_minor": 0,
              "version_major": 2
            },
            "text/plain": [
              "HBox(children=(FloatProgress(value=1.0, bar_style='info', max=1.0), HTML(value='')))"
            ]
          },
          "metadata": {
            "tags": []
          }
        },
        {
          "output_type": "stream",
          "text": [
            "Extracting data/MNIST/raw/train-images-idx3-ubyte.gz to data/MNIST/raw\n",
            "Downloading http://yann.lecun.com/exdb/mnist/train-labels-idx1-ubyte.gz to data/MNIST/raw/train-labels-idx1-ubyte.gz\n"
          ],
          "name": "stdout"
        },
        {
          "output_type": "display_data",
          "data": {
            "application/vnd.jupyter.widget-view+json": {
              "model_id": "0c8eccd32c13493c8e7b30afa7b9859b",
              "version_minor": 0,
              "version_major": 2
            },
            "text/plain": [
              "HBox(children=(FloatProgress(value=1.0, bar_style='info', max=1.0), HTML(value='')))"
            ]
          },
          "metadata": {
            "tags": []
          }
        },
        {
          "output_type": "stream",
          "text": [
            "Extracting data/MNIST/raw/train-labels-idx1-ubyte.gz to data/MNIST/raw\n",
            "Downloading http://yann.lecun.com/exdb/mnist/t10k-images-idx3-ubyte.gz to data/MNIST/raw/t10k-images-idx3-ubyte.gz\n",
            "\n",
            "\n"
          ],
          "name": "stdout"
        },
        {
          "output_type": "display_data",
          "data": {
            "application/vnd.jupyter.widget-view+json": {
              "model_id": "731358e1604f432a8ba590464fcf021a",
              "version_minor": 0,
              "version_major": 2
            },
            "text/plain": [
              "HBox(children=(FloatProgress(value=1.0, bar_style='info', max=1.0), HTML(value='')))"
            ]
          },
          "metadata": {
            "tags": []
          }
        },
        {
          "output_type": "stream",
          "text": [
            "Extracting data/MNIST/raw/t10k-images-idx3-ubyte.gz to data/MNIST/raw\n",
            "Downloading http://yann.lecun.com/exdb/mnist/t10k-labels-idx1-ubyte.gz to data/MNIST/raw/t10k-labels-idx1-ubyte.gz\n"
          ],
          "name": "stdout"
        },
        {
          "output_type": "display_data",
          "data": {
            "application/vnd.jupyter.widget-view+json": {
              "model_id": "6af893e7377341b88cea1177e3d4a6de",
              "version_minor": 0,
              "version_major": 2
            },
            "text/plain": [
              "HBox(children=(FloatProgress(value=1.0, bar_style='info', max=1.0), HTML(value='')))"
            ]
          },
          "metadata": {
            "tags": []
          }
        },
        {
          "output_type": "stream",
          "text": [
            "Extracting data/MNIST/raw/t10k-labels-idx1-ubyte.gz to data/MNIST/raw\n",
            "Processing...\n"
          ],
          "name": "stdout"
        },
        {
          "output_type": "stream",
          "text": [
            "/usr/local/lib/python3.6/dist-packages/torchvision/datasets/mnist.py:480: UserWarning: The given NumPy array is not writeable, and PyTorch does not support non-writeable tensors. This means you can write to the underlying (supposedly non-writeable) NumPy array using the tensor. You may want to copy the array to protect its data or make it writeable before converting it to a tensor. This type of warning will be suppressed for the rest of this program. (Triggered internally at  /pytorch/torch/csrc/utils/tensor_numpy.cpp:141.)\n",
            "  return torch.from_numpy(parsed.astype(m[2], copy=False)).view(*s)\n"
          ],
          "name": "stderr"
        },
        {
          "output_type": "stream",
          "text": [
            "Done!\n"
          ],
          "name": "stdout"
        }
      ]
    },
    {
      "cell_type": "code",
      "metadata": {
        "colab": {
          "base_uri": "https://localhost:8080/"
        },
        "id": "xuqiIVxWcYay",
        "outputId": "34348c40-8f8d-43dd-bbee-0d93061e399c"
      },
      "source": [
        "dataiter = iter(trainloader)\n",
        "images, labels = dataiter.next()\n",
        "print(type(images), images.shape, labels.shape)"
      ],
      "execution_count": null,
      "outputs": [
        {
          "output_type": "stream",
          "text": [
            "<class 'torch.Tensor'> torch.Size([64, 1, 28, 28]) torch.Size([64])\n"
          ],
          "name": "stdout"
        }
      ]
    },
    {
      "cell_type": "code",
      "metadata": {
        "colab": {
          "base_uri": "https://localhost:8080/",
          "height": 302
        },
        "id": "E2YlcFWfdcT6",
        "outputId": "6c542869-ed4e-4fe3-9060-08e1dc988f2b"
      },
      "source": [
        "import matplotlib.pyplot as plt\n",
        " \n",
        "plt.imshow(images[20].numpy().squeeze())"
      ],
      "execution_count": null,
      "outputs": [
        {
          "output_type": "execute_result",
          "data": {
            "text/plain": [
              "<matplotlib.image.AxesImage at 0x7f93adb55630>"
            ]
          },
          "metadata": {
            "tags": []
          },
          "execution_count": 4
        },
        {
          "output_type": "display_data",
          "data": {
            "image/png": "[encoded data removed]",
            "text/plain": [
              "<Figure size 432x288 with 1 Axes>"
            ]
          },
          "metadata": {
            "tags": [],
            "needs_background": "light"
          }
        }
      ]
    },
    {
      "cell_type": "code",
      "metadata": {
        "id": "MCx0pxO749H5"
      },
      "source": [
        " \n",
        "def NeuralNetwork(data,Y):\n",
        "  data = data.view(data.shape[0], -1)\n",
        "  N1= 100\n",
        "  N2=50\n",
        "  N3= 16\n",
        "  N4= 10\n",
        "  N= data.shape[1]\n",
        "  softmax = nn.Softmax(dim= 1)\n",
        " \n",
        " \n",
        "  W1= torch.rand(N, N1)\n",
        "  b1 = torch.rand(N1)\n",
        "  W2= torch.rand(N1, N2)\n",
        "  b2= torch.rand(N2)\n",
        "  W3= torch.rand(N2, N3)\n",
        "  b3 = torch.rand(N3)\n",
        "  W4 = torch.rand(N3, N4)\n",
        "  b4 = torch.rand(N4)\n",
        " \n",
        "  fc1 = sigmoid(torch.matmul(data,W1)+b1)\n",
        "  fc2 = sigmoid(torch.matmul(fc1, W2)+b2)\n",
        "  fc3 = sigmoid(torch.matmul(fc2, W3)+b3)\n",
        "  fc4 = softmax(torch.matmul(fc3, W4)+b4)\n",
        "  \"\"\"X= []\n",
        "  for _ in fc4:\n",
        "    if _ > 0.5:\n",
        "      X.append(1)\n",
        "    else:\n",
        "      X.append(0)\n",
        "  X= np.array(X)\n",
        "  Y= Y.numpy()\n",
        "  cost = np.mean( -Y* np.log(X) + (1- Y) * np.log(1-X))\"\"\"\n",
        "  X= fc4.argmax(1)\n",
        "  acc =0 \n",
        "  for i in range(len(X)):\n",
        "    if X[i] == Y[i]:\n",
        "      acc += 1\n",
        "  accuracy = acc/data.shape[0]\n",
        " \n",
        "  print(f\"The cost function is and the accuracy is {accuracy}\")"
      ],
      "execution_count": null,
      "outputs": []
    },
    {
      "cell_type": "code",
      "metadata": {
        "id": "riP1HTtmEO11"
      },
      "source": [
        ""
      ],
      "execution_count": null,
      "outputs": []
    },
    {
      "cell_type": "code",
      "metadata": {
        "colab": {
          "base_uri": "https://localhost:8080/"
        },
        "id": "YSsBiD9u-Jfh",
        "outputId": "fa3dfd77-5b6a-4ffd-e5b7-0e018bb597ea"
      },
      "source": [
        "NeuralNetwork(images, labels)"
      ],
      "execution_count": null,
      "outputs": [
        {
          "output_type": "stream",
          "text": [
            "The cost function is and the accuracy is 0.125\n"
          ],
          "name": "stdout"
        }
      ]
    },
    {
      "cell_type": "code",
      "metadata": {
        "colab": {
          "base_uri": "https://localhost:8080/"
        },
        "id": "UmGUVlSmjDlA",
        "outputId": "291c405a-9485-4807-d86d-f03bb1897c0d"
      },
      "source": [
        "c = b.argmax(1)\n",
        "c"
      ],
      "execution_count": null,
      "outputs": [
        {
          "output_type": "execute_result",
          "data": {
            "text/plain": [
              "tensor([9, 9, 9, 9, 9, 9, 9, 9, 9, 9, 9, 9, 9, 9, 9, 9, 9, 9, 9, 9, 9, 9, 9, 9,\n",
              "        9, 9, 9, 9, 9, 9, 9, 9, 9, 9, 9, 9, 9, 9, 9, 9, 9, 9, 9, 9, 9, 9, 9, 9,\n",
              "        9, 9, 9, 9, 9, 9, 9, 9, 9, 9, 9, 9, 9, 9, 9, 9])"
            ]
          },
          "metadata": {
            "tags": []
          },
          "execution_count": 96
        }
      ]
    },
    {
      "cell_type": "code",
      "metadata": {
        "id": "ux1jTdiPDwXN"
      },
      "source": [
        "from torch import nn"
      ],
      "execution_count": null,
      "outputs": []
    },
    {
      "cell_type": "code",
      "metadata": {
        "id": "fLGI0Z8kJfE7"
      },
      "source": [
        "def TorchNetwork(data,Y):\n",
        "  N1= 100\n",
        "  N2=50\n",
        "  N3= 16\n",
        "  N4= 1\n",
        "  N= data.shape[1]\n",
        "  sigmoid = nn.Sigmoid()\n",
        "  softmax = nn.Softmax(dim = 1)\n",
        "  hidden1= nn.Linear(N,N1)\n",
        "  hidden2 = nn.Linear(N1,N2)\n",
        "  hidden3 = nn.Linear(N2,N3)\n",
        "  output = nn.Linear(N3,N4)\n",
        " \n",
        "  x= sigmoid(hidden1(data))\n",
        "  x= sigmoid(hidden2(x))\n",
        "  x= sigmoid(hidden3(x))\n",
        "  x= softmax(output(x))\n",
        "  X= []\n",
        "  for _ in x:\n",
        "    if _ > 0.5:\n",
        "      X.append(1)\n",
        "    else:\n",
        "      X.append(0)\n",
        "  X= np.array(X)\n",
        "  Y= Y.numpy()\n",
        "  cost = np.mean( -Y* np.log(X) + (1- Y) * np.log(1-X))\n",
        "  acc =0\n",
        "  for i in range(len(X)):\n",
        "    if X[i] == Y[i]:\n",
        "      acc += 1\n",
        "  accuracy = acc/data.shape[0]\n",
        "  print(f\"The cost function is {cost} and the accuracy is {accuracy}\")"
      ],
      "execution_count": null,
      "outputs": []
    },
    {
      "cell_type": "code",
      "metadata": {
        "colab": {
          "base_uri": "https://localhost:8080/"
        },
        "id": "yb5Y7G2hML9V",
        "outputId": "ac204517-5c73-43e9-b976-abdd42184840"
      },
      "source": [
        "TorchNetwork(X_train, Y_train)"
      ],
      "execution_count": null,
      "outputs": [
        {
          "output_type": "stream",
          "text": [
            "The cost function is nan and the accuracy is 0.6274038461538461\n"
          ],
          "name": "stdout"
        },
        {
          "output_type": "stream",
          "text": [
            "/usr/local/lib/python3.6/dist-packages/ipykernel_launcher.py:25: RuntimeWarning: divide by zero encountered in log\n",
            "/usr/local/lib/python3.6/dist-packages/ipykernel_launcher.py:25: RuntimeWarning: invalid value encountered in multiply\n"
          ],
          "name": "stderr"
        }
      ]
    },
    {
      "cell_type": "code",
      "metadata": {
        "id": "QXtqKXgGRImt"
      },
      "source": [
        "import torch.nn.functional as F"
      ],
      "execution_count": null,
      "outputs": []
    },
    {
      "cell_type": "code",
      "metadata": {
        "id": "PhaMw5cPQ0H9"
      },
      "source": [
        "def TorchNetwork2(data,Y):\n",
        "  N1= 100\n",
        "  N2=50\n",
        "  N3= 16\n",
        "  N4= 1\n",
        "  N= data.shape[1]\n",
        " \n",
        "  hidden1= nn.Linear(N,N1)\n",
        "  hidden2 = nn.Linear(N1,N2)\n",
        "  hidden3 = nn.Linear(N2,N3)\n",
        "  output = nn.Linear(N3,N4)\n",
        " \n",
        "  fc1= F.sigmoid(hidden1(data))\n",
        "  fc2= F.sigmoid(hidden2(fc1))\n",
        "  fc3= F.sigmoid(hidden3(fc2))\n",
        "  fc4= F.sigmoid(output(fc3))\n",
        " \n",
        "  X= []\n",
        "  for _ in fc4:\n",
        "    if _ > 0.5:\n",
        "      X.append(1)\n",
        "    else:\n",
        "      X.append(0)\n",
        "  X= np.array(X)\n",
        "  Y= Y.numpy()\n",
        "  cost = np.mean( -Y* np.log(X) + (1- Y) * np.log(1-X))\n",
        "  acc =0\n",
        "  for i in range(len(X)):\n",
        "    if X[i] == Y[i]:\n",
        "      acc += 1\n",
        "  accuracy = acc/data.shape[0]\n",
        "  print(f\"The cost function is {cost} and the accuracy is {accuracy}\")"
      ],
      "execution_count": null,
      "outputs": []
    },
    {
      "cell_type": "code",
      "metadata": {
        "colab": {
          "base_uri": "https://localhost:8080/"
        },
        "id": "IcdhnQxESooA",
        "outputId": "2bd5c16e-9e89-4045-a76a-948a2977daec"
      },
      "source": [
        "TorchNetwork2(X_train, Y_train)"
      ],
      "execution_count": null,
      "outputs": [
        {
          "output_type": "stream",
          "text": [
            "The cost function is nan and the accuracy is 0.6274038461538461\n"
          ],
          "name": "stdout"
        },
        {
          "output_type": "stream",
          "text": [
            "/usr/local/lib/python3.6/dist-packages/torch/nn/functional.py:1639: UserWarning: nn.functional.sigmoid is deprecated. Use torch.sigmoid instead.\n",
            "  warnings.warn(\"nn.functional.sigmoid is deprecated. Use torch.sigmoid instead.\")\n",
            "/usr/local/lib/python3.6/dist-packages/ipykernel_launcher.py:26: RuntimeWarning: divide by zero encountered in log\n",
            "/usr/local/lib/python3.6/dist-packages/ipykernel_launcher.py:26: RuntimeWarning: invalid value encountered in multiply\n"
          ],
          "name": "stderr"
        }
      ]
    },
    {
      "cell_type": "code",
      "metadata": {
        "id": "cnR45FzaTAqJ"
      },
      "source": [
        " def TorchNetwork3(data,Y):\n",
        "  data = data.view(data.shape[0], -1)\n",
        "  N1= 100\n",
        "  N2=50\n",
        "  N3= 16\n",
        "  N4= 10\n",
        "  N= data.shape[1]\n",
        " \n",
        "  hidden1= nn.Linear(N,N1)\n",
        "  hidden2 = nn.Linear(N1,N2)\n",
        "  hidden3 = nn.Linear(N2,N3)\n",
        "  output = nn.Linear(N3,N4)\n",
        " \n",
        "  fc1= F.relu(hidden1(data))\n",
        "  fc2= F.relu(hidden2(fc1))\n",
        "  fc3= F.relu(hidden3(fc2))\n",
        "  fc4= F.softmax(output(fc3), dim= 1)\n",
        " \n",
        "  \"\"\"X= []\n",
        "  for _ in fc4:\n",
        "    if _ > 0.5:\n",
        "      X.append(1)\n",
        "    else:\n",
        "      X.append(0)\n",
        "  X= np.array(X)\n",
        "  Y= Y.numpy()\n",
        "  cost = np.mean( -Y* np.log(X) + (1- Y) * np.log(1-X))\"\"\"\n",
        "  X= fc4.argmax(1)\n",
        "  acc =0\n",
        "  for i in range(len(X)):\n",
        "    if X[i] == Y[i]:\n",
        "      acc += 1\n",
        "  accuracy = acc/data.shape[0]\n",
        "  print(f\"The cost function is and the accuracy is {accuracy}\")"
      ],
      "execution_count": null,
      "outputs": []
    },
    {
      "cell_type": "code",
      "metadata": {
        "colab": {
          "base_uri": "https://localhost:8080/"
        },
        "id": "nv1Y3zmDTePB",
        "outputId": "e59eba27-0766-474f-d043-b6ad26c12c15"
      },
      "source": [
        "TorchNetwork3(images, labels)"
      ],
      "execution_count": null,
      "outputs": [
        {
          "output_type": "stream",
          "text": [
            "The cost function is and the accuracy is 0.15625\n"
          ],
          "name": "stdout"
        }
      ]
    },
    {
      "cell_type": "code",
      "metadata": {
        "id": "v15KU_RTUfvn"
      },
      "source": [
        " \n",
        "def TorchNetwork4(data, Y):\n",
        "  data = data.view(data.shape[0], -1)\n",
        "  N0= data.shape[1]\n",
        "  N = [100,50,16]\n",
        "  N1 = 10\n",
        "  criterion = nn.NLLLoss()\n",
        " \n",
        "  model = nn.Sequential(nn.Linear(N0,N[0],),\n",
        "                        nn.ReLU(),\n",
        "                        nn.Linear(N[0], N[1]),\n",
        "                        nn.ReLU(),\n",
        "                        nn.Linear(N[1], N[2]),\n",
        "                        nn.ReLU(),\n",
        "                        nn.Linear(N[2],N1),\n",
        "                        nn.LogSoftmax(dim= 1))\n",
        "  forward = model.forward(data)\n",
        "  X= forward.argmax(dim=1)\n",
        "  \"\"\"for _ in forward:\n",
        "    if _ > 0.5:\n",
        "      X.append(1)\n",
        "    else:\n",
        "      X.append(0)\n",
        "  X= np.array(X)\n",
        "  Y= Y.numpy()\n",
        "  cost = np.mean( -Y* np.log(X) + (1- Y) * np.log(1-X))\"\"\"\n",
        "  acc =0\n",
        "  for i in range(len(X)):\n",
        "    if X[i] == Y[i]:\n",
        "      acc += 1\n",
        "  accuracy = acc/data.shape[0]\n",
        "  cost = criterion(forward, Y)\n",
        "  print(f\"The loss function is {cost} and the accuracy is {accuracy}\")"
      ],
      "execution_count": null,
      "outputs": []
    },
    {
      "cell_type": "code",
      "metadata": {
        "colab": {
          "base_uri": "https://localhost:8080/"
        },
        "id": "3cCnRxa3XHo2",
        "outputId": "1c239925-5eff-4722-c74f-f9acf6db5e19"
      },
      "source": [
        " \n",
        "images, labels= next(iter(trainloader))\n",
        "TorchNetwork4(images, labels)"
      ],
      "execution_count": null,
      "outputs": [
        {
          "output_type": "stream",
          "text": [
            "The loss function is 2.3696835041046143 and the accuracy is 0.0625\n"
          ],
          "name": "stdout"
        }
      ]
    },
    {
      "cell_type": "code",
      "metadata": {
        "id": "E5WLgx227-Bc"
      },
      "source": [
        "from torch import optim"
      ],
      "execution_count": null,
      "outputs": []
    },
    {
      "cell_type": "code",
      "metadata": {
        "colab": {
          "base_uri": "https://localhost:8080/"
        },
        "id": "uFg0vN6_5w2P",
        "outputId": "66449e90-2e13-4512-a4fa-7e9615a6b1ad"
      },
      "source": [
        "n= 784\n",
        "N=[500,250,100]\n",
        "N_out = 10\n",
        "Epoch= 10\n",
        "LR = 0.01\n",
        " \n",
        "model = nn.Sequential(nn.Linear(n,N[0]),\n",
        "                       nn.ReLU(),\n",
        "                       nn.Linear(N[0], N[1]),\n",
        "                       nn.ReLU(),\n",
        "                       nn.Linear(N[1], N[2]),\n",
        "                       nn.ReLU(),\n",
        "                       nn.Linear(N[2], N_out),\n",
        "                       nn.LogSoftmax(dim=1))\n",
        "criterion= nn.NLLLoss()\n",
        "optimizer = optim.Adam(model.parameters(), lr = LR)\n",
        " \n",
        " \n",
        "for x in range(Epoch):\n",
        "  running_loss= 0\n",
        "  for images, labels in trainloader:\n",
        "    optimizer.zero_grad()\n",
        "    images = images.view(images.shape[0], -1)\n",
        "    forward= model(images)\n",
        "    loss = criterion(forward, labels)\n",
        "    loss.backward()\n",
        "    optimizer.step()\n",
        "    running_loss += loss.item()\n",
        "  else:\n",
        "    \n",
        "    X = forward.argmax(dim=1)\n",
        "    acc = 0\n",
        "    for _ in range(len(labels)):\n",
        "      if X[_] == labels[_]:\n",
        "        acc += 1\n",
        "    acc /= len(labels)\n",
        "    print(f\"Epoch {x}........ Loss {running_loss/len(trainloader)}......... accuracy {acc}\")\n",
        "    print(\"_____________________________________________\")"
      ],
      "execution_count": null,
      "outputs": [
        {
          "output_type": "stream",
          "text": [
            "Epoch 0........ Loss 0.869682105388611......... accuracy 0.875\n",
            "_____________________________________________\n",
            "Epoch 1........ Loss 0.3770400211215019......... accuracy 0.9375\n",
            "_____________________________________________\n",
            "Epoch 2........ Loss 0.29480040213389763......... accuracy 1.0\n",
            "_____________________________________________\n",
            "Epoch 3........ Loss 0.28416250309177266......... accuracy 0.875\n",
            "_____________________________________________\n",
            "Epoch 4........ Loss 0.27765742565985696......... accuracy 0.9375\n",
            "_____________________________________________\n",
            "Epoch 5........ Loss 0.22244641725804395......... accuracy 0.875\n",
            "_____________________________________________\n",
            "Epoch 6........ Loss 0.23197432189800177......... accuracy 0.9375\n",
            "_____________________________________________\n",
            "Epoch 7........ Loss 0.20607725982583916......... accuracy 0.9375\n",
            "_____________________________________________\n",
            "Epoch 8........ Loss 0.19506595064263055......... accuracy 0.9375\n",
            "_____________________________________________\n",
            "Epoch 9........ Loss 0.21885625303835626......... accuracy 0.875\n",
            "_____________________________________________\n"
          ],
          "name": "stdout"
        }
      ]
    }
  ]
}