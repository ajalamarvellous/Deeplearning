{
  "nbformat": 4,
  "nbformat_minor": 0,
  "metadata": {
    "colab": {
      "name": "Fashion MNIST.ipynb",
      "provenance": [],
      "authorship_tag": "ABX9TyP91MlaTPZqTE2Muvckyw5T",
      "include_colab_link": true
    },
    "kernelspec": {
      "name": "python3",
      "display_name": "Python 3"
    }
  },
  "cells": [
    {
      "cell_type": "markdown",
      "metadata": {
        "id": "view-in-github",
        "colab_type": "text"
      },
      "source": [
        "<a href=\"https://colab.research.google.com/github/ajalamarvellous/Deeplearning/blob/main/Fashion_MNIST.ipynb\" target=\"_parent\"><img src=\"https://colab.research.google.com/assets/colab-badge.svg\" alt=\"Open In Colab\"/></a>"
      ]
    },
    {
      "cell_type": "code",
      "metadata": {
        "id": "WbGsNuNezocg"
      },
      "source": [
        "#importing necessary libraries\n",
        "import torch\n",
        "from torchvision import datasets, transforms\n",
        "from torch import nn\n",
        "import torch.nn.functional as F\n",
        "from torch.optim import Adam"
      ],
      "execution_count": 1,
      "outputs": []
    },
    {
      "cell_type": "code",
      "metadata": {
        "id": "Vmdy9Skk0n3u"
      },
      "source": [
        "#setting the transformation edits normalizing to mean of 0.5 and STD of 0.5\n",
        "transform = transforms.Compose([transforms.ToTensor(),\n",
        "                               transforms.Normalize((0.5,), (0.5))\n",
        "                                ])\n",
        " \n",
        "#downloading the train and test dataset\n",
        "trainset = datasets.FashionMNIST(\"F~MNIST/\", download = True, train = True, transform = transform)\n",
        "trainloader = torch.utils.data.DataLoader(trainset, batch_size= 64, shuffle = True)\n",
        " \n",
        "testset = datasets.FashionMNIST(\"F~MNIST/\", download = True, train = False, transform = transform)\n",
        "testloader = torch.utils.data.DataLoader(testset, batch_size= 64, shuffle = True)"
      ],
      "execution_count": 7,
      "outputs": []
    },
    {
      "cell_type": "code",
      "metadata": {
        "colab": {
          "base_uri": "https://localhost:8080/"
        },
        "id": "Q6mG9rNf3nat",
        "outputId": "a64419d0-e2cd-4619-b858-c5f47b0a8fce"
      },
      "source": [
        "images, labels = next(iter(trainloader))\n",
        "print(f\"shape of images {images.shape}\")"
      ],
      "execution_count": 11,
      "outputs": [
        {
          "output_type": "stream",
          "text": [
            "shape of images torch.Size([64, 1, 28, 28])\n"
          ],
          "name": "stdout"
        }
      ]
    },
    {
      "cell_type": "code",
      "metadata": {
        "id": "h14irO1l3PMo"
      },
      "source": [
        "class Model(nn.Module):\n",
        "  #initializing the model\n",
        "  def __init__(self):\n",
        "    super().__init__()\n",
        "    self.fc1= nn.Linear(784, 500)\n",
        "    self.fc2 = nn.Linear(500, 360)\n",
        "    self.fc3 = nn.Linear(360, 250)\n",
        "    self.fc4 = nn.Linear(250, 100)\n",
        "    self.output = nn.Linear(100,10)\n",
        "    self.dropout = nn.Dropout(p= 0.25)\n",
        " \n",
        "  #defining the forward prop\n",
        "  def forward(self, x):\n",
        "    #reshaping the input\n",
        "    x = x.view(x.shape[0], -1)\n",
        " \n",
        "    #hidden channels with dropouts\n",
        "    X= self.dropout(F.relu(self.fc1(x)))\n",
        "    X= self.dropout(F.relu(self.fc2(X)))\n",
        "    X= self.dropout(F.relu(self.fc3(X)))\n",
        "    X= self.dropout(F.relu(self.fc4(X)))\n",
        " \n",
        "    #output channel with no dropout\n",
        "    final = F.log_softmax(self.output(X), dim= 1)\n",
        "    return final"
      ],
      "execution_count": 24,
      "outputs": []
    },
    {
      "cell_type": "code",
      "metadata": {
        "colab": {
          "base_uri": "https://localhost:8080/"
        },
        "id": "jgQ4vVzg69r1",
        "outputId": "585113c0-dc02-4159-ec20-0facbcaf698f"
      },
      "source": [
        "Model()"
      ],
      "execution_count": 23,
      "outputs": [
        {
          "output_type": "execute_result",
          "data": {
            "text/plain": [
              "Model(\n",
              "  (fc1): Linear(in_features=784, out_features=500, bias=True)\n",
              "  (fc2): Linear(in_features=500, out_features=360, bias=True)\n",
              "  (fc3): Linear(in_features=360, out_features=250, bias=True)\n",
              "  (fc4): Linear(in_features=250, out_features=100, bias=True)\n",
              "  (output): Linear(in_features=100, out_features=10, bias=True)\n",
              "  (dropout): Dropout(p=0.25, inplace=False)\n",
              ")"
            ]
          },
          "metadata": {
            "tags": []
          },
          "execution_count": 23
        }
      ]
    },
    {
      "cell_type": "code",
      "metadata": {
        "id": "A6us6tIzKrpP"
      },
      "source": [
        "import matplotlib.pyplot as plt"
      ],
      "execution_count": 32,
      "outputs": []
    },
    {
      "cell_type": "code",
      "metadata": {
        "colab": {
          "base_uri": "https://localhost:8080/",
          "height": 422
        },
        "id": "0JT2W-h08CTU",
        "outputId": "4ab7352d-4e2b-44a6-af16-234ca66305a0"
      },
      "source": [
        " \n",
        "#initializing mod\n",
        "model = Model()\n",
        " \n",
        "#initializing the loss to logloss since we are already using softmax\n",
        "loss_criterion = nn.NLLLoss()\n",
        " \n",
        "#initializing optimization technique to Adam\n",
        "optimizer = Adam(model.parameters(), lr= 0.0005)\n",
        " \n",
        "epoch = 10\n",
        "train_losses, test_losses = [],[]\n",
        " \n",
        " \n",
        "for x in range(epoch):\n",
        "  #setting to train mode\n",
        "  model.train()\n",
        "  total_loss = 0\n",
        " \n",
        "  #getting images and labels \n",
        "  for images, labels in trainloader:\n",
        " \n",
        "    #clearing backward gradient of optimizer\n",
        "    optimizer.zero_grad()\n",
        " \n",
        "    #forward propagation\n",
        "    forwardprop = model.forward(images)\n",
        " \n",
        "    #getting the loss function\n",
        "    Loss = loss_criterion(forwardprop, labels)\n",
        " \n",
        "    #backward propagation\n",
        "    Loss.backward()\n",
        " \n",
        "    #updating the weights\n",
        "    optimizer.step()\n",
        " \n",
        "    #updating loss\n",
        "    total_loss += Loss.item()\n",
        " \n",
        "  else:\n",
        "    #setting to validation mode\n",
        "    model.eval() \n",
        " \n",
        "    test_loss= 0\n",
        "    accuracy = 0\n",
        " \n",
        "    #setting to no grad for evaluation, to save memory and dataset computing\n",
        "    with torch.no_grad():\n",
        " \n",
        "      #getting images and labels from testloader\n",
        "      for images, labels in testloader:\n",
        "      \n",
        "        #forward propagation\n",
        "        forwardprop = model.forward(images)\n",
        " \n",
        "        #getting the loss function\n",
        "        loss = loss_criterion(forwardprop, labels)\n",
        " \n",
        "        test_loss += loss.item()\n",
        " \n",
        "        results= F.softmax(forwardprop)\n",
        " \n",
        "        #gettinv the top probability and class too\n",
        "        top_p, top_class = results.topk(1,dim=1)\n",
        " \n",
        "       #getting no of correct answers\n",
        "        eval = labels == top_class.view(labels.shape)\n",
        "        accuracy = torch.mean(eval.type(torch.FloatTensor))\n",
        " \n",
        "    train_losses.append(total_loss/len(trainloader))\n",
        "    test_losses.append(test_loss/len(testloader))\n",
        "    #reset to training mode again\n",
        "    model.train()\n",
        " \n",
        "    print(f\"Epoch {x}/{epoch}....training loss ....{total_loss/len(trainloader)}...test loss {test_loss/len(testloader)}.....accuracy......{accuracy}\")\n",
        " \n",
        "plt.plot(train_losses, label = \"train losses\")\n",
        "plt.plot(test_losses, label = \"test losses\")\n",
        "plt.legend()"
      ],
      "execution_count": 33,
      "outputs": [
        {
          "output_type": "stream",
          "text": [
            "/usr/local/lib/python3.6/dist-packages/ipykernel_launcher.py:62: UserWarning: Implicit dimension choice for softmax has been deprecated. Change the call to include dim=X as an argument.\n"
          ],
          "name": "stderr"
        },
        {
          "output_type": "stream",
          "text": [
            "Epoch 0/10....training loss ....0.6322392746806145...test loss 0.43748777772590614.....accuracy......1.0\n",
            "Epoch 1/10....training loss ....0.43694416036420286...test loss 0.4193003354178872.....accuracy......0.875\n",
            "Epoch 2/10....training loss ....0.3946041439705566...test loss 0.39958408598307593.....accuracy......0.8125\n",
            "Epoch 3/10....training loss ....0.36840324110186684...test loss 0.39973414551680253.....accuracy......0.9375\n",
            "Epoch 4/10....training loss ....0.3517049723533171...test loss 0.3533067555184577.....accuracy......0.9375\n",
            "Epoch 5/10....training loss ....0.33619358118917386...test loss 0.35477189207152954.....accuracy......0.6875\n",
            "Epoch 6/10....training loss ....0.3244760981929709...test loss 0.3575770951760043.....accuracy......0.875\n",
            "Epoch 7/10....training loss ....0.31145205876148585...test loss 0.3393091913431313.....accuracy......0.8125\n",
            "Epoch 8/10....training loss ....0.2999748141764959...test loss 0.32985617377006327.....accuracy......0.9375\n",
            "Epoch 9/10....training loss ....0.29573300333101865...test loss 0.34660890935712557.....accuracy......0.9375\n"
          ],
          "name": "stdout"
        },
        {
          "output_type": "execute_result",
          "data": {
            "text/plain": [
              "<matplotlib.legend.Legend at 0x7f66c7fa40b8>"
            ]
          },
          "metadata": {
            "tags": []
          },
          "execution_count": 33
        },
        {
          "output_type": "display_data",
          "data": {
            "image/png": "[encoded data removed]",
            "text/plain": [
              "<Figure size 432x288 with 1 Axes>"
            ]
          },
          "metadata": {
            "tags": [],
            "needs_background": "light"
          }
        }
      ]
    },
    {
      "cell_type": "code",
      "metadata": {
        "id": "29QIiMfyObK2"
      },
      "source": [
        " \n",
        "model_saved = {\"input_shape\":784,\n",
        "               \"output_shape\": 10,\n",
        "               \"hidden_layers\": [500,360,250,100],\n",
        "               \"state_dict\": model.state_dict()}\n",
        " \n",
        "torch.save(model_saved, \"model_saved.pth\")"
      ],
      "execution_count": 39,
      "outputs": []
    }
  ]
}